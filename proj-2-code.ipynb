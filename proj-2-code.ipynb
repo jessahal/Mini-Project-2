{
 "cells": [
  {
   "cell_type": "code",
   "execution_count": 4,
   "id": "initial_id",
   "metadata": {
    "collapsed": true,
    "ExecuteTime": {
     "end_time": "2024-10-28T14:40:42.573293100Z",
     "start_time": "2024-10-28T14:40:42.494489100Z"
    }
   },
   "outputs": [],
   "source": [
    "import pandas as pd\n",
    "import tensorflow as tf\n",
    "from tensorflow import keras\n",
    "from tensorflow.keras.applications.resnet50 import ResNet50, preprocess_input, decode_predictions\n",
    "from tensorflow.keras.preprocessing import image\n",
    "from tensorflow.keras.preprocessing.image import ImageDataGenerator\n",
    "from keras.models import Sequential\n",
    "from keras.layers import Conv2D, MaxPooling2D, Flatten, Dense, Dropout\n",
    "from keras.regularizers import l2\n",
    "from keras.optimizers import Adam\n",
    "from sklearn.metrics import accuracy_score, classification_report, confusion_matrix\n",
    "import os\n",
    "import numpy as np\n",
    "import matplotlib.pyplot as plt"
   ]
  },
  {
   "cell_type": "code",
   "execution_count": 5,
   "outputs": [
    {
     "name": "stdout",
     "output_type": "stream",
     "text": [
      "Found 2591 validated image filenames belonging to 5 classes.\n",
      "Found 863 validated image filenames belonging to 5 classes.\n"
     ]
    }
   ],
   "source": [
    "images_dir = \"training/\"\n",
    "labels = pd.read_csv(\"training_labels.csv\")\n",
    "\n",
    "# add the directory to the filename\n",
    "labels['ID'] = labels['ID'].apply(lambda x: os.path.join(images_dir, x))\n",
    "\n",
    "# Initialize the ImageDataGenerator\n",
    "# You can change the size of the validation split (0.25 is 25% of data used as validation set)\n",
    "datagen = ImageDataGenerator(rescale=1./255, validation_split=0.25)\n",
    "\n",
    "train_datagen = ImageDataGenerator(\n",
    "    rescale=1./255,\n",
    "    validation_split=0.25,\n",
    "    rotation_range=10,\n",
    "    width_shift_range=0.2,\n",
    "    height_shift_range=0.2,\n",
    "    shear_range=0.2,\n",
    "    zoom_range=0.2,\n",
    "    horizontal_flip=True,\n",
    "    fill_mode='nearest'\n",
    ")\n",
    "\n",
    "# Create the training and validation generators\n",
    "train_generator = train_datagen.flow_from_dataframe(\n",
    "    dataframe=labels,\n",
    "    directory=None,  \n",
    "    x_col='ID',\n",
    "    y_col='target',\n",
    "    target_size=(224, 224), # You can change the size of the image\n",
    "    batch_size=32, # You can change the batch_size\n",
    "    class_mode='categorical',  \n",
    "    subset='training'\n",
    ")\n",
    "\n",
    "validation_generator = datagen.flow_from_dataframe(\n",
    "    dataframe=labels,\n",
    "    directory=None,  \n",
    "    x_col='ID',\n",
    "    y_col='target',\n",
    "    target_size=(224, 224), # Should match training size\n",
    "    batch_size=32, # Should match training\n",
    "    class_mode='categorical',  \n",
    "    subset='validation'\n",
    ")"
   ],
   "metadata": {
    "collapsed": false,
    "ExecuteTime": {
     "end_time": "2024-10-28T14:40:47.569633400Z",
     "start_time": "2024-10-28T14:40:45.100207900Z"
    }
   },
   "id": "205c7aaedd651ca5"
  },
  {
   "cell_type": "markdown",
   "source": [
    "### ONLY RUN THIS TO SEE THE PICTURES. SKIP IT OTHERWISE"
   ],
   "metadata": {
    "collapsed": false
   },
   "id": "3d45cfc94a01d50d"
  },
  {
   "cell_type": "code",
   "execution_count": null,
   "outputs": [],
   "source": [
    "## Plot a few of the images\n",
    "\n",
    "# Fetch a batch of images and their labels\n",
    "images, labels = next(train_generator)\n",
    "\n",
    "# Number of images to show\n",
    "num_images = 8\n",
    "\n",
    "plt.figure(figsize=(20, 10))\n",
    "for i in range(num_images):\n",
    "    ax = plt.subplot(2, 4, i + 1)\n",
    "    plt.imshow(images[i])\n",
    "    # The label for current image\n",
    "    label_index = labels[i].argmax()  # Convert one-hot encoding to index\n",
    "    label = list(train_generator.class_indices.keys())[label_index]  # Get label name from index\n",
    "    plt.title(label)\n",
    "    plt.axis('off')\n",
    "plt.show()\n"
   ],
   "metadata": {
    "collapsed": false
   },
   "id": "56cbc5e57c01c687"
  },
  {
   "cell_type": "markdown",
   "source": [
    "### Training Code"
   ],
   "metadata": {
    "collapsed": false
   },
   "id": "232dda5d082617ef"
  },
  {
   "cell_type": "code",
   "execution_count": 7,
   "outputs": [
    {
     "name": "stdout",
     "output_type": "stream",
     "text": [
      "Epoch 1/10\n",
      "\u001B[1m81/81\u001B[0m \u001B[32m━━━━━━━━━━━━━━━━━━━━\u001B[0m\u001B[37m\u001B[0m \u001B[1m606s\u001B[0m 7s/step - accuracy: 0.3362 - loss: 2.7462 - val_accuracy: 0.2317 - val_loss: 1.6296\n",
      "Epoch 2/10\n",
      "\u001B[1m81/81\u001B[0m \u001B[32m━━━━━━━━━━━━━━━━━━━━\u001B[0m\u001B[37m\u001B[0m \u001B[1m540s\u001B[0m 7s/step - accuracy: 0.4429 - loss: 1.4742 - val_accuracy: 0.1587 - val_loss: 1.7674\n",
      "Epoch 3/10\n",
      "\u001B[1m53/81\u001B[0m \u001B[32m━━━━━━━━━━━━━\u001B[0m\u001B[37m━━━━━━━\u001B[0m \u001B[1m2:58\u001B[0m 6s/step - accuracy: 0.4222 - loss: 1.3760"
     ]
    },
    {
     "name": "stderr",
     "output_type": "stream",
     "text": [
      "\n",
      "KeyboardInterrupt\n",
      "\n"
     ]
    }
   ],
   "source": [
    "base_mod = ResNet50(weights='imagenet')\n",
    "\n",
    "# Freeze the base model layers\n",
    "for layer in base_mod.layers[-5:]:\n",
    "    layer.trainable = True\n",
    "\n",
    "# Create the model\n",
    "model = Sequential([\n",
    "    base_mod,\n",
    "    Flatten(),\n",
    "    Dense(128, activation='relu', kernel_regularizer = l2(0.01)),\n",
    "    Dropout(0.5),\n",
    "    Dense(len(labels['target'].unique()), activation='softmax')  # Number of classes\n",
    "])\n",
    "\n",
    "# Compile the model\n",
    "model.compile(optimizer='adam', loss='categorical_crossentropy', metrics=['accuracy'])\n",
    "\n",
    "# Train the model\n",
    "model.fit(\n",
    "    train_generator,\n",
    "    validation_data= validation_generator, \n",
    "    epochs = 10\n",
    ")"
   ],
   "metadata": {
    "collapsed": false,
    "ExecuteTime": {
     "end_time": "2024-10-28T15:55:57.843991700Z",
     "start_time": "2024-10-28T15:30:54.584113700Z"
    }
   },
   "id": "3aa48365f85a2229"
  },
  {
   "cell_type": "markdown",
   "source": [
    "### Test Data!"
   ],
   "metadata": {
    "collapsed": false
   },
   "id": "7e6c58244658661d"
  },
  {
   "cell_type": "code",
   "execution_count": null,
   "outputs": [],
   "source": [
    "test_images_dir = \"test/\"  # Directory for test images\n",
    "test_labels = pd.read_csv(\"test_labels.csv\")  # CSV with test image IDs\n",
    "\n",
    "# Update paths for test images\n",
    "test_labels['ID'] = test_labels['ID'].apply(lambda x: os.path.join(test_images_dir, x))\n",
    "\n",
    "# Initialize the ImageDataGenerator for test data (no validation split or augmentation)\n",
    "test_datagen = ImageDataGenerator(rescale=1./255)\n",
    "\n",
    "# Create the test generator\n",
    "test_generator = test_datagen.flow_from_dataframe(\n",
    "    dataframe=test_labels,\n",
    "    directory=None,\n",
    "    x_col='ID',\n",
    "    y_col=None,  # No labels for test data\n",
    "    target_size=(224, 224),  # Same size as training\n",
    "    batch_size=32,\n",
    "    class_mode=None,  # Only images, no labels\n",
    "    shuffle=False  # Keep order for mapping with IDs\n",
    ")\n",
    "\n",
    "# Mapping class indices back to class labels\n",
    "class_labels = {v: k for k, v in train_generator.class_indices.items()}\n",
    "\n",
    "# Generate predictions\n",
    "predictions = model.predict(test_generator)\n",
    "predicted_indices = np.argmax(predictions, axis=1)  # Get the class indices with the highest probability\n",
    "\n",
    "# Convert indices to class labels\n",
    "predicted_labels = [class_labels[idx] for idx in predicted_indices]\n",
    "\n",
    "# Prepare predictions for CSV\n",
    "output = pd.DataFrame({\n",
    "    'ID': test_labels['ID'].apply(lambda x: os.path.basename(x)),  # Get just the filename\n",
    "    'Prediction': predicted_labels\n",
    "})\n",
    "\n",
    "# Save to CSV\n",
    "output.to_csv(\"predictions.csv\", index=False)"
   ],
   "metadata": {
    "collapsed": false
   },
   "id": "952132f55c918a5a"
  }
 ],
 "metadata": {
  "kernelspec": {
   "display_name": "Python 3",
   "language": "python",
   "name": "python3"
  },
  "language_info": {
   "codemirror_mode": {
    "name": "ipython",
    "version": 2
   },
   "file_extension": ".py",
   "mimetype": "text/x-python",
   "name": "python",
   "nbconvert_exporter": "python",
   "pygments_lexer": "ipython2",
   "version": "2.7.6"
  }
 },
 "nbformat": 4,
 "nbformat_minor": 5
}
