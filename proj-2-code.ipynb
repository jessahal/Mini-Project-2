{
 "cells": [
  {
   "cell_type": "code",
   "execution_count": 1,
   "id": "initial_id",
   "metadata": {
    "collapsed": true,
    "ExecuteTime": {
     "end_time": "2024-10-29T23:20:32.542395100Z",
     "start_time": "2024-10-29T23:20:10.817439300Z"
    }
   },
   "outputs": [],
   "source": [
    "import pandas as pd\n",
    "import tensorflow as tf\n",
    "from tensorflow import keras\n",
    "from tensorflow.keras.applications.resnet50 import ResNet50, preprocess_input, decode_predictions\n",
    "from tensorflow.keras.callbacks import ReduceLROnPlateau, EarlyStopping\n",
    "from tensorflow.keras.preprocessing.image import ImageDataGenerator, load_img, img_to_array\n",
    "from keras.models import Sequential, Model\n",
    "from keras.layers import Conv2D, MaxPooling2D, Flatten, Dense, Dropout, Input, BatchNormalization, LeakyReLU\n",
    "from keras.regularizers import l2\n",
    "from keras.optimizers import Adam\n",
    "from sklearn.metrics import accuracy_score, classification_report, confusion_matrix\n",
    "import os\n",
    "import numpy as np\n",
    "import matplotlib.pyplot as plt"
   ]
  },
  {
   "cell_type": "code",
   "execution_count": 2,
   "outputs": [
    {
     "name": "stdout",
     "output_type": "stream",
     "text": [
      "Found 2591 validated image filenames belonging to 5 classes.\n",
      "Found 863 validated image filenames belonging to 5 classes.\n"
     ]
    }
   ],
   "source": [
    "images_dir = \"training/\"\n",
    "labels = pd.read_csv(\"training_labels.csv\")\n",
    "\n",
    "# add the directory to the filename\n",
    "labels['ID'] = labels['ID'].apply(lambda x: os.path.join(images_dir, x))\n",
    "\n",
    "# Initialize the ImageDataGenerator\n",
    "# You can change the size of the validation split (0.25 is 25% of data used as validation set)\n",
    "datagen = ImageDataGenerator(rescale=1./255, validation_split=0.25)\n",
    "\n",
    "train_datagen = ImageDataGenerator(\n",
    "    rescale=1./255,\n",
    "    validation_split=0.25,\n",
    "    rotation_range=10,\n",
    "    width_shift_range=0.2,\n",
    "    height_shift_range=0.2,\n",
    "    shear_range=0.2,\n",
    "    zoom_range=0.2,\n",
    "    horizontal_flip=True,\n",
    "    fill_mode='nearest'\n",
    ")\n",
    "\n",
    "# Create the training and validation generators\n",
    "train_generator = train_datagen.flow_from_dataframe(\n",
    "    dataframe=labels,\n",
    "    directory=None,  \n",
    "    x_col='ID',\n",
    "    y_col='target',\n",
    "    target_size=(224, 224), # You can change the size of the image\n",
    "    batch_size=32, # You can change the batch_size\n",
    "    class_mode='categorical',  \n",
    "    subset='training'\n",
    ")\n",
    "\n",
    "validation_generator = datagen.flow_from_dataframe(\n",
    "    dataframe=labels,\n",
    "    directory=None,  \n",
    "    x_col='ID',\n",
    "    y_col='target',\n",
    "    target_size=(224, 224), # Should match training size\n",
    "    batch_size=32, # Should match training\n",
    "    class_mode='categorical',  \n",
    "    subset='validation'\n",
    ")"
   ],
   "metadata": {
    "collapsed": false,
    "ExecuteTime": {
     "end_time": "2024-10-29T23:20:35.756314800Z",
     "start_time": "2024-10-29T23:20:32.543729800Z"
    }
   },
   "id": "205c7aaedd651ca5"
  },
  {
   "cell_type": "markdown",
   "source": [
    "### ONLY RUN THIS TO SEE THE PICTURES. SKIP IT OTHERWISE"
   ],
   "metadata": {
    "collapsed": false
   },
   "id": "3d45cfc94a01d50d"
  },
  {
   "cell_type": "code",
   "execution_count": 3,
   "outputs": [],
   "source": [
    "## Plot a few of the images\n",
    "# \n",
    "# # Fetch a batch of images and their labels\n",
    "# images, labels = next(train_generator)\n",
    "# \n",
    "# # Number of images to show\n",
    "# num_images = 8\n",
    "# \n",
    "# plt.figure(figsize=(20, 10))\n",
    "# for i in range(num_images):\n",
    "#     ax = plt.subplot(2, 4, i + 1)\n",
    "#     plt.imshow(images[i])\n",
    "#     # The label for current image\n",
    "#     label_index = labels[i].argmax()  # Convert one-hot encoding to index\n",
    "#     label = list(train_generator.class_indices.keys())[label_index]  # Get label name from index\n",
    "#     plt.title(label)\n",
    "#     plt.axis('off')\n",
    "# plt.show()\n"
   ],
   "metadata": {
    "collapsed": false,
    "ExecuteTime": {
     "end_time": "2024-10-29T23:20:35.797841800Z",
     "start_time": "2024-10-29T23:20:35.756314800Z"
    }
   },
   "id": "56cbc5e57c01c687"
  },
  {
   "cell_type": "markdown",
   "source": [
    "### Training Code"
   ],
   "metadata": {
    "collapsed": false
   },
   "id": "232dda5d082617ef"
  },
  {
   "cell_type": "code",
   "execution_count": 4,
   "outputs": [],
   "source": [
    "# base_mod = ResNet50(weights='imagenet')\n",
    "# \n",
    "# # Freeze the base model layers\n",
    "# for layer in base_mod.layers[-15:]:\n",
    "#     layer.trainable = True\n",
    "# \n",
    "# # Create the model\n",
    "# model = Sequential([\n",
    "#     base_mod,\n",
    "#     Flatten(),\n",
    "#     Dense(164, activation='relu', regularization = l2(.01)),\n",
    "#     Dropout(0.5),\n",
    "#     Dense(len(labels['target'].unique()), activation='softmax')  # Number of classes\n",
    "# ])\n",
    "# \n",
    "# # Compile the model\n",
    "# model.compile(optimizer='adam', loss='categorical_crossentropy', metrics=['accuracy'])\n",
    "# \n",
    "# # Train the model\n",
    "# model.fit(\n",
    "#     train_generator,\n",
    "#     validation_data= validation_generator, \n",
    "#     epochs = 10\n",
    "# )"
   ],
   "metadata": {
    "collapsed": false,
    "ExecuteTime": {
     "end_time": "2024-10-29T23:20:35.863452700Z",
     "start_time": "2024-10-29T23:20:35.776452400Z"
    }
   },
   "id": "3aa48365f85a2229"
  },
  {
   "cell_type": "markdown",
   "source": [
    "### CNN TRY INSTEAD"
   ],
   "metadata": {
    "collapsed": false
   },
   "id": "ab66dd078a33db73"
  },
  {
   "cell_type": "code",
   "execution_count": 10,
   "outputs": [
    {
     "name": "stderr",
     "output_type": "stream",
     "text": [
      "C:\\Users\\jessa\\anaconda3\\envs\\stat486\\Lib\\site-packages\\keras\\src\\layers\\convolutional\\base_conv.py:107: UserWarning: Do not pass an `input_shape`/`input_dim` argument to a layer. When using Sequential models, prefer using an `Input(shape)` object as the first layer in the model instead.\n",
      "  super().__init__(activity_regularizer=activity_regularizer, **kwargs)\n",
      "C:\\Users\\jessa\\anaconda3\\envs\\stat486\\Lib\\site-packages\\keras\\src\\layers\\activations\\leaky_relu.py:41: UserWarning: Argument `alpha` is deprecated. Use `negative_slope` instead.\n",
      "  warnings.warn(\n"
     ]
    }
   ],
   "source": [
    "num_classes = 5\n",
    "\n",
    "cnn_model = Sequential()\n",
    "cnn_model.add(Conv2D(32, kernel_size=(3, 3),activation='linear',padding='same',input_shape=(224, 224, 3)))\n",
    "cnn_model.add(LeakyReLU(alpha=0.1))\n",
    "cnn_model.add(MaxPooling2D((2, 2),padding='same'))\n",
    "cnn_model.add(Dropout(0.25))\n",
    "cnn_model.add(Conv2D(64, (3, 3), activation='linear',padding='same'))\n",
    "cnn_model.add(LeakyReLU(alpha=0.1))\n",
    "cnn_model.add(MaxPooling2D(pool_size=(2, 2),padding='same'))\n",
    "cnn_model.add(Dropout(0.25))\n",
    "cnn_model.add(Conv2D(128, (3, 3), activation='linear',padding='same'))\n",
    "cnn_model.add(LeakyReLU(alpha=0.1))                  \n",
    "cnn_model.add(MaxPooling2D(pool_size=(2, 2),padding='same'))\n",
    "cnn_model.add(Dropout(0.4))\n",
    "cnn_model.add(Flatten())\n",
    "cnn_model.add(Dense(128, activation='linear'))\n",
    "cnn_model.add(LeakyReLU(alpha=0.1))           \n",
    "cnn_model.add(Dropout(0.3))\n",
    "cnn_model.add(Dense(num_classes, activation='softmax'))"
   ],
   "metadata": {
    "collapsed": false,
    "ExecuteTime": {
     "end_time": "2024-10-30T01:11:52.654733500Z",
     "start_time": "2024-10-30T01:11:51.353202Z"
    }
   },
   "id": "5da56dc4fbf9dc91"
  },
  {
   "cell_type": "code",
   "execution_count": 11,
   "outputs": [
    {
     "data": {
      "text/plain": "\u001B[1mModel: \"sequential_1\"\u001B[0m\n",
      "text/html": "<pre style=\"white-space:pre;overflow-x:auto;line-height:normal;font-family:Menlo,'DejaVu Sans Mono',consolas,'Courier New',monospace\"><span style=\"font-weight: bold\">Model: \"sequential_1\"</span>\n</pre>\n"
     },
     "metadata": {},
     "output_type": "display_data"
    },
    {
     "data": {
      "text/plain": "┏━━━━━━━━━━━━━━━━━━━━━━━━━━━━━━━━━┳━━━━━━━━━━━━━━━━━━━━━━━━┳━━━━━━━━━━━━━━━┓\n┃\u001B[1m \u001B[0m\u001B[1mLayer (type)                   \u001B[0m\u001B[1m \u001B[0m┃\u001B[1m \u001B[0m\u001B[1mOutput Shape          \u001B[0m\u001B[1m \u001B[0m┃\u001B[1m \u001B[0m\u001B[1m      Param #\u001B[0m\u001B[1m \u001B[0m┃\n┡━━━━━━━━━━━━━━━━━━━━━━━━━━━━━━━━━╇━━━━━━━━━━━━━━━━━━━━━━━━╇━━━━━━━━━━━━━━━┩\n│ conv2d_3 (\u001B[38;5;33mConv2D\u001B[0m)               │ (\u001B[38;5;45mNone\u001B[0m, \u001B[38;5;34m128\u001B[0m, \u001B[38;5;34m128\u001B[0m, \u001B[38;5;34m32\u001B[0m)   │           \u001B[38;5;34m896\u001B[0m │\n├─────────────────────────────────┼────────────────────────┼───────────────┤\n│ leaky_re_lu_4 (\u001B[38;5;33mLeakyReLU\u001B[0m)       │ (\u001B[38;5;45mNone\u001B[0m, \u001B[38;5;34m128\u001B[0m, \u001B[38;5;34m128\u001B[0m, \u001B[38;5;34m32\u001B[0m)   │             \u001B[38;5;34m0\u001B[0m │\n├─────────────────────────────────┼────────────────────────┼───────────────┤\n│ max_pooling2d_3 (\u001B[38;5;33mMaxPooling2D\u001B[0m)  │ (\u001B[38;5;45mNone\u001B[0m, \u001B[38;5;34m64\u001B[0m, \u001B[38;5;34m64\u001B[0m, \u001B[38;5;34m32\u001B[0m)     │             \u001B[38;5;34m0\u001B[0m │\n├─────────────────────────────────┼────────────────────────┼───────────────┤\n│ dropout_4 (\u001B[38;5;33mDropout\u001B[0m)             │ (\u001B[38;5;45mNone\u001B[0m, \u001B[38;5;34m64\u001B[0m, \u001B[38;5;34m64\u001B[0m, \u001B[38;5;34m32\u001B[0m)     │             \u001B[38;5;34m0\u001B[0m │\n├─────────────────────────────────┼────────────────────────┼───────────────┤\n│ conv2d_4 (\u001B[38;5;33mConv2D\u001B[0m)               │ (\u001B[38;5;45mNone\u001B[0m, \u001B[38;5;34m64\u001B[0m, \u001B[38;5;34m64\u001B[0m, \u001B[38;5;34m64\u001B[0m)     │        \u001B[38;5;34m18,496\u001B[0m │\n├─────────────────────────────────┼────────────────────────┼───────────────┤\n│ leaky_re_lu_5 (\u001B[38;5;33mLeakyReLU\u001B[0m)       │ (\u001B[38;5;45mNone\u001B[0m, \u001B[38;5;34m64\u001B[0m, \u001B[38;5;34m64\u001B[0m, \u001B[38;5;34m64\u001B[0m)     │             \u001B[38;5;34m0\u001B[0m │\n├─────────────────────────────────┼────────────────────────┼───────────────┤\n│ max_pooling2d_4 (\u001B[38;5;33mMaxPooling2D\u001B[0m)  │ (\u001B[38;5;45mNone\u001B[0m, \u001B[38;5;34m32\u001B[0m, \u001B[38;5;34m32\u001B[0m, \u001B[38;5;34m64\u001B[0m)     │             \u001B[38;5;34m0\u001B[0m │\n├─────────────────────────────────┼────────────────────────┼───────────────┤\n│ dropout_5 (\u001B[38;5;33mDropout\u001B[0m)             │ (\u001B[38;5;45mNone\u001B[0m, \u001B[38;5;34m32\u001B[0m, \u001B[38;5;34m32\u001B[0m, \u001B[38;5;34m64\u001B[0m)     │             \u001B[38;5;34m0\u001B[0m │\n├─────────────────────────────────┼────────────────────────┼───────────────┤\n│ conv2d_5 (\u001B[38;5;33mConv2D\u001B[0m)               │ (\u001B[38;5;45mNone\u001B[0m, \u001B[38;5;34m32\u001B[0m, \u001B[38;5;34m32\u001B[0m, \u001B[38;5;34m128\u001B[0m)    │        \u001B[38;5;34m73,856\u001B[0m │\n├─────────────────────────────────┼────────────────────────┼───────────────┤\n│ leaky_re_lu_6 (\u001B[38;5;33mLeakyReLU\u001B[0m)       │ (\u001B[38;5;45mNone\u001B[0m, \u001B[38;5;34m32\u001B[0m, \u001B[38;5;34m32\u001B[0m, \u001B[38;5;34m128\u001B[0m)    │             \u001B[38;5;34m0\u001B[0m │\n├─────────────────────────────────┼────────────────────────┼───────────────┤\n│ max_pooling2d_5 (\u001B[38;5;33mMaxPooling2D\u001B[0m)  │ (\u001B[38;5;45mNone\u001B[0m, \u001B[38;5;34m16\u001B[0m, \u001B[38;5;34m16\u001B[0m, \u001B[38;5;34m128\u001B[0m)    │             \u001B[38;5;34m0\u001B[0m │\n├─────────────────────────────────┼────────────────────────┼───────────────┤\n│ dropout_6 (\u001B[38;5;33mDropout\u001B[0m)             │ (\u001B[38;5;45mNone\u001B[0m, \u001B[38;5;34m16\u001B[0m, \u001B[38;5;34m16\u001B[0m, \u001B[38;5;34m128\u001B[0m)    │             \u001B[38;5;34m0\u001B[0m │\n├─────────────────────────────────┼────────────────────────┼───────────────┤\n│ flatten_1 (\u001B[38;5;33mFlatten\u001B[0m)             │ (\u001B[38;5;45mNone\u001B[0m, \u001B[38;5;34m32768\u001B[0m)          │             \u001B[38;5;34m0\u001B[0m │\n├─────────────────────────────────┼────────────────────────┼───────────────┤\n│ dense_2 (\u001B[38;5;33mDense\u001B[0m)                 │ (\u001B[38;5;45mNone\u001B[0m, \u001B[38;5;34m128\u001B[0m)            │     \u001B[38;5;34m4,194,432\u001B[0m │\n├─────────────────────────────────┼────────────────────────┼───────────────┤\n│ leaky_re_lu_7 (\u001B[38;5;33mLeakyReLU\u001B[0m)       │ (\u001B[38;5;45mNone\u001B[0m, \u001B[38;5;34m128\u001B[0m)            │             \u001B[38;5;34m0\u001B[0m │\n├─────────────────────────────────┼────────────────────────┼───────────────┤\n│ dropout_7 (\u001B[38;5;33mDropout\u001B[0m)             │ (\u001B[38;5;45mNone\u001B[0m, \u001B[38;5;34m128\u001B[0m)            │             \u001B[38;5;34m0\u001B[0m │\n├─────────────────────────────────┼────────────────────────┼───────────────┤\n│ dense_3 (\u001B[38;5;33mDense\u001B[0m)                 │ (\u001B[38;5;45mNone\u001B[0m, \u001B[38;5;34m5\u001B[0m)              │           \u001B[38;5;34m645\u001B[0m │\n└─────────────────────────────────┴────────────────────────┴───────────────┘\n",
      "text/html": "<pre style=\"white-space:pre;overflow-x:auto;line-height:normal;font-family:Menlo,'DejaVu Sans Mono',consolas,'Courier New',monospace\">┏━━━━━━━━━━━━━━━━━━━━━━━━━━━━━━━━━┳━━━━━━━━━━━━━━━━━━━━━━━━┳━━━━━━━━━━━━━━━┓\n┃<span style=\"font-weight: bold\"> Layer (type)                    </span>┃<span style=\"font-weight: bold\"> Output Shape           </span>┃<span style=\"font-weight: bold\">       Param # </span>┃\n┡━━━━━━━━━━━━━━━━━━━━━━━━━━━━━━━━━╇━━━━━━━━━━━━━━━━━━━━━━━━╇━━━━━━━━━━━━━━━┩\n│ conv2d_3 (<span style=\"color: #0087ff; text-decoration-color: #0087ff\">Conv2D</span>)               │ (<span style=\"color: #00d7ff; text-decoration-color: #00d7ff\">None</span>, <span style=\"color: #00af00; text-decoration-color: #00af00\">128</span>, <span style=\"color: #00af00; text-decoration-color: #00af00\">128</span>, <span style=\"color: #00af00; text-decoration-color: #00af00\">32</span>)   │           <span style=\"color: #00af00; text-decoration-color: #00af00\">896</span> │\n├─────────────────────────────────┼────────────────────────┼───────────────┤\n│ leaky_re_lu_4 (<span style=\"color: #0087ff; text-decoration-color: #0087ff\">LeakyReLU</span>)       │ (<span style=\"color: #00d7ff; text-decoration-color: #00d7ff\">None</span>, <span style=\"color: #00af00; text-decoration-color: #00af00\">128</span>, <span style=\"color: #00af00; text-decoration-color: #00af00\">128</span>, <span style=\"color: #00af00; text-decoration-color: #00af00\">32</span>)   │             <span style=\"color: #00af00; text-decoration-color: #00af00\">0</span> │\n├─────────────────────────────────┼────────────────────────┼───────────────┤\n│ max_pooling2d_3 (<span style=\"color: #0087ff; text-decoration-color: #0087ff\">MaxPooling2D</span>)  │ (<span style=\"color: #00d7ff; text-decoration-color: #00d7ff\">None</span>, <span style=\"color: #00af00; text-decoration-color: #00af00\">64</span>, <span style=\"color: #00af00; text-decoration-color: #00af00\">64</span>, <span style=\"color: #00af00; text-decoration-color: #00af00\">32</span>)     │             <span style=\"color: #00af00; text-decoration-color: #00af00\">0</span> │\n├─────────────────────────────────┼────────────────────────┼───────────────┤\n│ dropout_4 (<span style=\"color: #0087ff; text-decoration-color: #0087ff\">Dropout</span>)             │ (<span style=\"color: #00d7ff; text-decoration-color: #00d7ff\">None</span>, <span style=\"color: #00af00; text-decoration-color: #00af00\">64</span>, <span style=\"color: #00af00; text-decoration-color: #00af00\">64</span>, <span style=\"color: #00af00; text-decoration-color: #00af00\">32</span>)     │             <span style=\"color: #00af00; text-decoration-color: #00af00\">0</span> │\n├─────────────────────────────────┼────────────────────────┼───────────────┤\n│ conv2d_4 (<span style=\"color: #0087ff; text-decoration-color: #0087ff\">Conv2D</span>)               │ (<span style=\"color: #00d7ff; text-decoration-color: #00d7ff\">None</span>, <span style=\"color: #00af00; text-decoration-color: #00af00\">64</span>, <span style=\"color: #00af00; text-decoration-color: #00af00\">64</span>, <span style=\"color: #00af00; text-decoration-color: #00af00\">64</span>)     │        <span style=\"color: #00af00; text-decoration-color: #00af00\">18,496</span> │\n├─────────────────────────────────┼────────────────────────┼───────────────┤\n│ leaky_re_lu_5 (<span style=\"color: #0087ff; text-decoration-color: #0087ff\">LeakyReLU</span>)       │ (<span style=\"color: #00d7ff; text-decoration-color: #00d7ff\">None</span>, <span style=\"color: #00af00; text-decoration-color: #00af00\">64</span>, <span style=\"color: #00af00; text-decoration-color: #00af00\">64</span>, <span style=\"color: #00af00; text-decoration-color: #00af00\">64</span>)     │             <span style=\"color: #00af00; text-decoration-color: #00af00\">0</span> │\n├─────────────────────────────────┼────────────────────────┼───────────────┤\n│ max_pooling2d_4 (<span style=\"color: #0087ff; text-decoration-color: #0087ff\">MaxPooling2D</span>)  │ (<span style=\"color: #00d7ff; text-decoration-color: #00d7ff\">None</span>, <span style=\"color: #00af00; text-decoration-color: #00af00\">32</span>, <span style=\"color: #00af00; text-decoration-color: #00af00\">32</span>, <span style=\"color: #00af00; text-decoration-color: #00af00\">64</span>)     │             <span style=\"color: #00af00; text-decoration-color: #00af00\">0</span> │\n├─────────────────────────────────┼────────────────────────┼───────────────┤\n│ dropout_5 (<span style=\"color: #0087ff; text-decoration-color: #0087ff\">Dropout</span>)             │ (<span style=\"color: #00d7ff; text-decoration-color: #00d7ff\">None</span>, <span style=\"color: #00af00; text-decoration-color: #00af00\">32</span>, <span style=\"color: #00af00; text-decoration-color: #00af00\">32</span>, <span style=\"color: #00af00; text-decoration-color: #00af00\">64</span>)     │             <span style=\"color: #00af00; text-decoration-color: #00af00\">0</span> │\n├─────────────────────────────────┼────────────────────────┼───────────────┤\n│ conv2d_5 (<span style=\"color: #0087ff; text-decoration-color: #0087ff\">Conv2D</span>)               │ (<span style=\"color: #00d7ff; text-decoration-color: #00d7ff\">None</span>, <span style=\"color: #00af00; text-decoration-color: #00af00\">32</span>, <span style=\"color: #00af00; text-decoration-color: #00af00\">32</span>, <span style=\"color: #00af00; text-decoration-color: #00af00\">128</span>)    │        <span style=\"color: #00af00; text-decoration-color: #00af00\">73,856</span> │\n├─────────────────────────────────┼────────────────────────┼───────────────┤\n│ leaky_re_lu_6 (<span style=\"color: #0087ff; text-decoration-color: #0087ff\">LeakyReLU</span>)       │ (<span style=\"color: #00d7ff; text-decoration-color: #00d7ff\">None</span>, <span style=\"color: #00af00; text-decoration-color: #00af00\">32</span>, <span style=\"color: #00af00; text-decoration-color: #00af00\">32</span>, <span style=\"color: #00af00; text-decoration-color: #00af00\">128</span>)    │             <span style=\"color: #00af00; text-decoration-color: #00af00\">0</span> │\n├─────────────────────────────────┼────────────────────────┼───────────────┤\n│ max_pooling2d_5 (<span style=\"color: #0087ff; text-decoration-color: #0087ff\">MaxPooling2D</span>)  │ (<span style=\"color: #00d7ff; text-decoration-color: #00d7ff\">None</span>, <span style=\"color: #00af00; text-decoration-color: #00af00\">16</span>, <span style=\"color: #00af00; text-decoration-color: #00af00\">16</span>, <span style=\"color: #00af00; text-decoration-color: #00af00\">128</span>)    │             <span style=\"color: #00af00; text-decoration-color: #00af00\">0</span> │\n├─────────────────────────────────┼────────────────────────┼───────────────┤\n│ dropout_6 (<span style=\"color: #0087ff; text-decoration-color: #0087ff\">Dropout</span>)             │ (<span style=\"color: #00d7ff; text-decoration-color: #00d7ff\">None</span>, <span style=\"color: #00af00; text-decoration-color: #00af00\">16</span>, <span style=\"color: #00af00; text-decoration-color: #00af00\">16</span>, <span style=\"color: #00af00; text-decoration-color: #00af00\">128</span>)    │             <span style=\"color: #00af00; text-decoration-color: #00af00\">0</span> │\n├─────────────────────────────────┼────────────────────────┼───────────────┤\n│ flatten_1 (<span style=\"color: #0087ff; text-decoration-color: #0087ff\">Flatten</span>)             │ (<span style=\"color: #00d7ff; text-decoration-color: #00d7ff\">None</span>, <span style=\"color: #00af00; text-decoration-color: #00af00\">32768</span>)          │             <span style=\"color: #00af00; text-decoration-color: #00af00\">0</span> │\n├─────────────────────────────────┼────────────────────────┼───────────────┤\n│ dense_2 (<span style=\"color: #0087ff; text-decoration-color: #0087ff\">Dense</span>)                 │ (<span style=\"color: #00d7ff; text-decoration-color: #00d7ff\">None</span>, <span style=\"color: #00af00; text-decoration-color: #00af00\">128</span>)            │     <span style=\"color: #00af00; text-decoration-color: #00af00\">4,194,432</span> │\n├─────────────────────────────────┼────────────────────────┼───────────────┤\n│ leaky_re_lu_7 (<span style=\"color: #0087ff; text-decoration-color: #0087ff\">LeakyReLU</span>)       │ (<span style=\"color: #00d7ff; text-decoration-color: #00d7ff\">None</span>, <span style=\"color: #00af00; text-decoration-color: #00af00\">128</span>)            │             <span style=\"color: #00af00; text-decoration-color: #00af00\">0</span> │\n├─────────────────────────────────┼────────────────────────┼───────────────┤\n│ dropout_7 (<span style=\"color: #0087ff; text-decoration-color: #0087ff\">Dropout</span>)             │ (<span style=\"color: #00d7ff; text-decoration-color: #00d7ff\">None</span>, <span style=\"color: #00af00; text-decoration-color: #00af00\">128</span>)            │             <span style=\"color: #00af00; text-decoration-color: #00af00\">0</span> │\n├─────────────────────────────────┼────────────────────────┼───────────────┤\n│ dense_3 (<span style=\"color: #0087ff; text-decoration-color: #0087ff\">Dense</span>)                 │ (<span style=\"color: #00d7ff; text-decoration-color: #00d7ff\">None</span>, <span style=\"color: #00af00; text-decoration-color: #00af00\">5</span>)              │           <span style=\"color: #00af00; text-decoration-color: #00af00\">645</span> │\n└─────────────────────────────────┴────────────────────────┴───────────────┘\n</pre>\n"
     },
     "metadata": {},
     "output_type": "display_data"
    },
    {
     "data": {
      "text/plain": "\u001B[1m Total params: \u001B[0m\u001B[38;5;34m4,288,325\u001B[0m (16.36 MB)\n",
      "text/html": "<pre style=\"white-space:pre;overflow-x:auto;line-height:normal;font-family:Menlo,'DejaVu Sans Mono',consolas,'Courier New',monospace\"><span style=\"font-weight: bold\"> Total params: </span><span style=\"color: #00af00; text-decoration-color: #00af00\">4,288,325</span> (16.36 MB)\n</pre>\n"
     },
     "metadata": {},
     "output_type": "display_data"
    },
    {
     "data": {
      "text/plain": "\u001B[1m Trainable params: \u001B[0m\u001B[38;5;34m4,288,325\u001B[0m (16.36 MB)\n",
      "text/html": "<pre style=\"white-space:pre;overflow-x:auto;line-height:normal;font-family:Menlo,'DejaVu Sans Mono',consolas,'Courier New',monospace\"><span style=\"font-weight: bold\"> Trainable params: </span><span style=\"color: #00af00; text-decoration-color: #00af00\">4,288,325</span> (16.36 MB)\n</pre>\n"
     },
     "metadata": {},
     "output_type": "display_data"
    },
    {
     "data": {
      "text/plain": "\u001B[1m Non-trainable params: \u001B[0m\u001B[38;5;34m0\u001B[0m (0.00 B)\n",
      "text/html": "<pre style=\"white-space:pre;overflow-x:auto;line-height:normal;font-family:Menlo,'DejaVu Sans Mono',consolas,'Courier New',monospace\"><span style=\"font-weight: bold\"> Non-trainable params: </span><span style=\"color: #00af00; text-decoration-color: #00af00\">0</span> (0.00 B)\n</pre>\n"
     },
     "metadata": {},
     "output_type": "display_data"
    },
    {
     "name": "stdout",
     "output_type": "stream",
     "text": [
      "None\n"
     ]
    }
   ],
   "source": [
    "cnn_model.compile(loss=\"categorical_crossentropy\",\n",
    "              optimizer=\"adam\",\n",
    "              metrics=[\"accuracy\"])\n",
    "\n",
    "print(cnn_model.summary())"
   ],
   "metadata": {
    "collapsed": false,
    "ExecuteTime": {
     "end_time": "2024-10-30T01:11:55.179044100Z",
     "start_time": "2024-10-30T01:11:55.051411400Z"
    }
   },
   "id": "524a807114b415c8"
  },
  {
   "cell_type": "code",
   "execution_count": 12,
   "outputs": [
    {
     "name": "stdout",
     "output_type": "stream",
     "text": [
      "Epoch 1/20\n",
      "\u001B[1m81/81\u001B[0m \u001B[32m━━━━━━━━━━━━━━━━━━━━\u001B[0m\u001B[37m\u001B[0m \u001B[1m63s\u001B[0m 745ms/step - accuracy: 0.2942 - loss: 1.8110 - val_accuracy: 0.4368 - val_loss: 1.2775 - learning_rate: 0.0010\n",
      "Epoch 2/20\n",
      "\u001B[1m81/81\u001B[0m \u001B[32m━━━━━━━━━━━━━━━━━━━━\u001B[0m\u001B[37m\u001B[0m \u001B[1m25s\u001B[0m 308ms/step - accuracy: 0.5012 - loss: 1.1974 - val_accuracy: 0.5539 - val_loss: 1.1535 - learning_rate: 0.0010\n",
      "Epoch 3/20\n",
      "\u001B[1m81/81\u001B[0m \u001B[32m━━━━━━━━━━━━━━━━━━━━\u001B[0m\u001B[37m\u001B[0m \u001B[1m29s\u001B[0m 363ms/step - accuracy: 0.5504 - loss: 1.1243 - val_accuracy: 0.5435 - val_loss: 1.1154 - learning_rate: 0.0010\n",
      "Epoch 4/20\n",
      "\u001B[1m81/81\u001B[0m \u001B[32m━━━━━━━━━━━━━━━━━━━━\u001B[0m\u001B[37m\u001B[0m \u001B[1m31s\u001B[0m 388ms/step - accuracy: 0.5578 - loss: 1.1327 - val_accuracy: 0.6130 - val_loss: 0.9831 - learning_rate: 0.0010\n",
      "Epoch 5/20\n",
      "\u001B[1m81/81\u001B[0m \u001B[32m━━━━━━━━━━━━━━━━━━━━\u001B[0m\u001B[37m\u001B[0m \u001B[1m31s\u001B[0m 381ms/step - accuracy: 0.5913 - loss: 1.0050 - val_accuracy: 0.6362 - val_loss: 0.9645 - learning_rate: 0.0010\n",
      "Epoch 6/20\n",
      "\u001B[1m81/81\u001B[0m \u001B[32m━━━━━━━━━━━━━━━━━━━━\u001B[0m\u001B[37m\u001B[0m \u001B[1m30s\u001B[0m 369ms/step - accuracy: 0.6448 - loss: 0.9586 - val_accuracy: 0.6385 - val_loss: 0.8998 - learning_rate: 0.0010\n",
      "Epoch 7/20\n",
      "\u001B[1m81/81\u001B[0m \u001B[32m━━━━━━━━━━━━━━━━━━━━\u001B[0m\u001B[37m\u001B[0m \u001B[1m29s\u001B[0m 354ms/step - accuracy: 0.6628 - loss: 0.8665 - val_accuracy: 0.6709 - val_loss: 0.9008 - learning_rate: 0.0010\n",
      "Epoch 8/20\n",
      "\u001B[1m81/81\u001B[0m \u001B[32m━━━━━━━━━━━━━━━━━━━━\u001B[0m\u001B[37m\u001B[0m \u001B[1m29s\u001B[0m 355ms/step - accuracy: 0.6520 - loss: 0.8811 - val_accuracy: 0.6605 - val_loss: 0.8644 - learning_rate: 0.0010\n",
      "Epoch 9/20\n",
      "\u001B[1m81/81\u001B[0m \u001B[32m━━━━━━━━━━━━━━━━━━━━\u001B[0m\u001B[37m\u001B[0m \u001B[1m29s\u001B[0m 362ms/step - accuracy: 0.6735 - loss: 0.8646 - val_accuracy: 0.6477 - val_loss: 0.9015 - learning_rate: 0.0010\n",
      "Epoch 10/20\n",
      "\u001B[1m81/81\u001B[0m \u001B[32m━━━━━━━━━━━━━━━━━━━━\u001B[0m\u001B[37m\u001B[0m \u001B[1m30s\u001B[0m 366ms/step - accuracy: 0.6816 - loss: 0.8314 - val_accuracy: 0.6848 - val_loss: 0.8516 - learning_rate: 0.0010\n",
      "Epoch 11/20\n",
      "\u001B[1m81/81\u001B[0m \u001B[32m━━━━━━━━━━━━━━━━━━━━\u001B[0m\u001B[37m\u001B[0m \u001B[1m29s\u001B[0m 358ms/step - accuracy: 0.6935 - loss: 0.7939 - val_accuracy: 0.6721 - val_loss: 0.8497 - learning_rate: 0.0010\n",
      "Epoch 12/20\n",
      "\u001B[1m81/81\u001B[0m \u001B[32m━━━━━━━━━━━━━━━━━━━━\u001B[0m\u001B[37m\u001B[0m \u001B[1m29s\u001B[0m 359ms/step - accuracy: 0.6917 - loss: 0.8067 - val_accuracy: 0.6825 - val_loss: 0.8385 - learning_rate: 0.0010\n",
      "Epoch 13/20\n",
      "\u001B[1m81/81\u001B[0m \u001B[32m━━━━━━━━━━━━━━━━━━━━\u001B[0m\u001B[37m\u001B[0m \u001B[1m28s\u001B[0m 351ms/step - accuracy: 0.6872 - loss: 0.7875 - val_accuracy: 0.7057 - val_loss: 0.7780 - learning_rate: 0.0010\n",
      "Epoch 14/20\n",
      "\u001B[1m81/81\u001B[0m \u001B[32m━━━━━━━━━━━━━━━━━━━━\u001B[0m\u001B[37m\u001B[0m \u001B[1m30s\u001B[0m 367ms/step - accuracy: 0.7145 - loss: 0.7084 - val_accuracy: 0.6895 - val_loss: 0.7918 - learning_rate: 0.0010\n",
      "Epoch 15/20\n",
      "\u001B[1m81/81\u001B[0m \u001B[32m━━━━━━━━━━━━━━━━━━━━\u001B[0m\u001B[37m\u001B[0m \u001B[1m28s\u001B[0m 349ms/step - accuracy: 0.7145 - loss: 0.7481 - val_accuracy: 0.6987 - val_loss: 0.7842 - learning_rate: 0.0010\n",
      "Epoch 16/20\n",
      "\u001B[1m81/81\u001B[0m \u001B[32m━━━━━━━━━━━━━━━━━━━━\u001B[0m\u001B[37m\u001B[0m \u001B[1m27s\u001B[0m 332ms/step - accuracy: 0.7417 - loss: 0.6975 - val_accuracy: 0.6779 - val_loss: 0.8470 - learning_rate: 5.0000e-04\n",
      "Epoch 17/20\n",
      "\u001B[1m81/81\u001B[0m \u001B[32m━━━━━━━━━━━━━━━━━━━━\u001B[0m\u001B[37m\u001B[0m \u001B[1m27s\u001B[0m 334ms/step - accuracy: 0.7349 - loss: 0.6641 - val_accuracy: 0.6906 - val_loss: 0.7948 - learning_rate: 5.0000e-04\n",
      "Epoch 18/20\n",
      "\u001B[1m81/81\u001B[0m \u001B[32m━━━━━━━━━━━━━━━━━━━━\u001B[0m\u001B[37m\u001B[0m \u001B[1m27s\u001B[0m 332ms/step - accuracy: 0.7487 - loss: 0.6387 - val_accuracy: 0.7300 - val_loss: 0.7293 - learning_rate: 2.5000e-04\n",
      "Epoch 19/20\n",
      "\u001B[1m81/81\u001B[0m \u001B[32m━━━━━━━━━━━━━━━━━━━━\u001B[0m\u001B[37m\u001B[0m \u001B[1m27s\u001B[0m 330ms/step - accuracy: 0.7555 - loss: 0.6286 - val_accuracy: 0.7184 - val_loss: 0.7555 - learning_rate: 2.5000e-04\n",
      "Epoch 20/20\n",
      "\u001B[1m81/81\u001B[0m \u001B[32m━━━━━━━━━━━━━━━━━━━━\u001B[0m\u001B[37m\u001B[0m \u001B[1m27s\u001B[0m 328ms/step - accuracy: 0.7775 - loss: 0.6097 - val_accuracy: 0.7115 - val_loss: 0.7857 - learning_rate: 2.5000e-04\n"
     ]
    }
   ],
   "source": [
    "n_epochs= 20\n",
    "reduce_lr = ReduceLROnPlateau(monitor='val_loss', factor=0.5, patience=2, min_lr=1e-5)\n",
    "early_stopping = EarlyStopping(monitor='val_loss', patience=5, restore_best_weights=True)\n",
    "\n",
    "# Add them to the model's fit function\n",
    "history = cnn_model.fit(\n",
    "    train_generator,\n",
    "    epochs=n_epochs,\n",
    "    validation_data=validation_generator,\n",
    "    callbacks=[reduce_lr, early_stopping]\n",
    ")"
   ],
   "metadata": {
    "collapsed": false,
    "ExecuteTime": {
     "end_time": "2024-10-30T01:22:10.186244800Z",
     "start_time": "2024-10-30T01:12:02.451402500Z"
    }
   },
   "id": "cf233a4c8fdd3d8"
  },
  {
   "cell_type": "code",
   "execution_count": 13,
   "outputs": [
    {
     "data": {
      "text/plain": "<Figure size 800x500 with 1 Axes>",
      "image/png": "[encoded data removed]"
     },
     "metadata": {},
     "output_type": "display_data"
    }
   ],
   "source": [
    "pd.DataFrame(history.history).plot(\n",
    "    figsize=(8, 5), xlim=[0,(n_epochs-1)], grid=True, xlabel=\"Epoch\",\n",
    "    style=[\"r--\", \"r--.\", \"b-\", \"b-*\"])\n",
    "plt.legend(loc=(1.01,0))  # extra code\n",
    "#save_fig(\"keras_learning_curves_plot\")  # extra code\n",
    "plt.show()"
   ],
   "metadata": {
    "collapsed": false,
    "ExecuteTime": {
     "end_time": "2024-10-30T01:22:20.765446600Z",
     "start_time": "2024-10-30T01:22:19.641218200Z"
    }
   },
   "id": "f6a8c8b89d567953"
  },
  {
   "cell_type": "markdown",
   "source": [
    "### Test Data!"
   ],
   "metadata": {
    "collapsed": false
   },
   "id": "7e6c58244658661d"
  },
  {
   "cell_type": "code",
   "execution_count": 15,
   "outputs": [
    {
     "name": "stdout",
     "output_type": "stream",
     "text": [
      "\u001B[1m27/27\u001B[0m \u001B[32m━━━━━━━━━━━━━━━━━━━━\u001B[0m\u001B[37m\u001B[0m \u001B[1m3s\u001B[0m 74ms/step\n"
     ]
    }
   ],
   "source": [
    "def load_and_preprocess_images(directory, target_size):\n",
    "    images = []\n",
    "    filenames = []\n",
    "    \n",
    "    for filename in os.listdir(directory):\n",
    "        img_path = os.path.join(directory, filename)\n",
    "        img = load_img(img_path, target_size=target_size)  # Load image with target size\n",
    "        img_array = img_to_array(img) / 255.0  # Convert to array and scale\n",
    "        images.append(img_array)\n",
    "        filenames.append(filename)  # Save the filename (ID)\n",
    "    \n",
    "    return np.array(images), filenames\n",
    "\n",
    "# Directory containing the test images\n",
    "testing_directory = \"testing\" \n",
    "target_size = (224, 224)  # Adjust based on your model's input size\n",
    "\n",
    "# Load and preprocess images\n",
    "test_images, image_ids = load_and_preprocess_images(testing_directory, target_size)\n",
    "\n",
    "# Make predictions\n",
    "predictions = cnn_model.predict(test_images)  # Get predictions\n",
    "predicted_indices = np.argmax(predictions, axis=1)  # Get the class indices\n",
    "\n",
    "class_labels = {v: k for k, v in train_generator.class_indices.items()}  # Adjust this as necessary\n",
    "\n",
    "# Convert indices to class labels\n",
    "predicted_labels = [class_labels[idx] for idx in predicted_indices]\n",
    "\n",
    "# Prepare the DataFrame\n",
    "output = pd.DataFrame({\n",
    "    'ID': image_ids,  # Filenames as IDs\n",
    "    'Prediction': predicted_labels  # Predicted labels\n",
    "})\n",
    "\n",
    "# Save to CSV\n",
    "output.to_csv(\"predictions.csv\", index=False)"
   ],
   "metadata": {
    "collapsed": false,
    "ExecuteTime": {
     "end_time": "2024-10-30T01:24:56.552027200Z",
     "start_time": "2024-10-30T01:24:51.378008600Z"
    }
   },
   "id": "41d768d177a14aec"
  }
 ],
 "metadata": {
  "kernelspec": {
   "display_name": "Python 3",
   "language": "python",
   "name": "python3"
  },
  "language_info": {
   "codemirror_mode": {
    "name": "ipython",
    "version": 2
   },
   "file_extension": ".py",
   "mimetype": "text/x-python",
   "name": "python",
   "nbconvert_exporter": "python",
   "pygments_lexer": "ipython2",
   "version": "2.7.6"
  }
 },
 "nbformat": 4,
 "nbformat_minor": 5
}
